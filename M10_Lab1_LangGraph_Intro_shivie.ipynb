{
  "nbformat": 4,
  "nbformat_minor": 0,
  "metadata": {
    "colab": {
      "provenance": [],
      "include_colab_link": true
    },
    "kernelspec": {
      "name": "python3",
      "display_name": "Python 3"
    },
    "language_info": {
      "name": "python"
    }
  },
  "cells": [
    {
      "cell_type": "markdown",
      "metadata": {
        "id": "view-in-github",
        "colab_type": "text"
      },
      "source": [
        "<a href=\"https://colab.research.google.com/github/kiranrajkumar480/Gen_AI_Hackathon/blob/main/M10_Lab1_LangGraph_Intro_shivie.ipynb\" target=\"_parent\"><img src=\"https://colab.research.google.com/assets/colab-badge.svg\" alt=\"Open In Colab\"/></a>"
      ]
    },
    {
      "cell_type": "markdown",
      "source": [
        "<div style=\"font-family: 'Segoe UI', sans-serif; background-color: #f4faff; padding: 20px; border-radius: 12px; border-left: 6px solid #3399ff; color: #1a1a1a\">\n",
        "\n",
        "  <h1 style=\"color: #0066cc;\">🚀 <strong>LangGraph Lab: Part 1: Introduction</strong></h1>\n",
        "  <p><strong style=\"color: #3399ff;\">Prof. Dehghani</strong></p>\n",
        "\n",
        "  <h2 style=\"color: #004c99;\">🔹 Building More Controllable LLM Agents with LangGraph</h2>\n",
        "\n",
        "  <h3 style=\"color: #0059b3;\">🔷 Introduction</h3>\n",
        "  <p>\n",
        "    <strong>LangGraph</strong> is a framework designed for building <strong>agent and multi-agent applications</strong> with structured control.\n",
        "    While large language models (LLMs) are powerful, they often require <strong>more precise workflows</strong> to ensure reliability.\n",
        "  </p>\n",
        "  <p>\n",
        "    Many real-world applications need agents to follow <strong>specific steps</strong>, such as always calling a certain tool first or adjusting their prompts\n",
        "    based on the current state. Traditional agent frameworks may not provide enough control for these scenarios.\n",
        "    <strong>LangGraph</strong> introduces a <em>graph-based approach</em> that allows developers to define structured workflows while still benefiting from LLM flexibility.\n",
        "  </p>\n",
        "  <p>\n",
        "    This lab is adapted from the\n",
        "    <a href=\"https://academy.langchain.com/courses/intro-to-langgraph\" target=\"_blank\" style=\"color:#0066cc;\">\n",
        "      LangChain Academy's Intro to LangGraph\n",
        "    </a>, which provides additional details and use cases.\n",
        "  </p>\n",
        "\n",
        "  <h3 style=\"color: #0059b3;\">🎯 Lab Objectives</h3>\n",
        "  <ul>\n",
        "    <li>The role of <strong>graphs</strong> in LLM-based agent workflows</li>\n",
        "    <li>How to define <strong>nodes</strong> (decision points) and <strong>edges</strong> (paths) in LangGraph</li>\n",
        "    <li>Implementing an <strong>agent with controlled decision-making</strong></li>\n",
        "    <li>Exploring <strong>multi-agent interactions</strong> within a structured framework</li>\n",
        "  </ul>\n",
        "\n",
        "  <h3 style=\"color: #0059b3;\">⚙️ Getting Started</h3>\n",
        "  <p>Run the following cell to install the required libraries:</p>\n",
        "</div>\n"
      ],
      "metadata": {
        "id": "-sCUJNA-pzym"
      }
    },
    {
      "cell_type": "code",
      "execution_count": 1,
      "metadata": {
        "id": "dUBqvLcsoxyf"
      },
      "outputs": [],
      "source": [
        "# ++++ 🛠️ Minimal Install for LangGraph-based Graph Workflows (No LLMs)\n",
        "\n",
        "%%capture --no-stderr\n",
        "!pip install --quiet -U langgraph          # 🔄 Core framework for graph-based stateful workflows\n",
        "!pip install --quiet -U langchain_core     # 🧠 Core utilities and types required by LangGraph\n"
      ]
    },
    {
      "cell_type": "code",
      "source": [
        "# ++++ 📦 Standard Imports\n",
        "import os\n",
        "from IPython.display import display, HTML\n",
        "import json"
      ],
      "metadata": {
        "id": "T3QCXxG7LnRC"
      },
      "execution_count": 2,
      "outputs": []
    },
    {
      "cell_type": "code",
      "source": [
        "# 🖨️ pretty_print(): Reusable HTML display function for model outputs\n",
        "def pretty_print(text, title=\"🤖 Model Response\"):\n",
        "    \"\"\"\n",
        "    Display model response in styled HTML block.\n",
        "    Handles bulleted lists and line breaks.\n",
        "    \"\"\"\n",
        "    lines = text.strip().split('\\n')\n",
        "    is_bulleted = all(line.strip().startswith((\"-\", \"•\", \"*\")) for line in lines if line.strip())\n",
        "\n",
        "    if is_bulleted:\n",
        "        list_items = ''.join(f\"<li>{line.lstrip('-•* ').strip()}</li>\" for line in lines if line.strip())\n",
        "        content_html = f\"<ul style='margin-top: 6px;'>{list_items}</ul>\"\n",
        "    else:\n",
        "        content_html = text.replace(\"\\n\", \"<br>\")  # fallback for plain lines\n",
        "\n",
        "    display(HTML(f\"\"\"\n",
        "    <div style=\"background-color:#f8f9fc; border-left:5px solid #4285f4;\n",
        "                padding:16px; margin-top:16px; font-family:'Segoe UI', sans-serif;\n",
        "                color:#202124; line-height:1.6;\">\n",
        "      <strong>{title}</strong><br><br>\n",
        "      {content_html}\n",
        "    </div>\n",
        "    \"\"\"))"
      ],
      "metadata": {
        "id": "tOLxstE5LXtH"
      },
      "execution_count": 3,
      "outputs": []
    },
    {
      "cell_type": "markdown",
      "source": [
        "<div style=\"background-color:#f8f9fc; border-left:5px solid #4285f4;\n",
        "            padding:16px; margin-top:16px; font-family:'Segoe UI', sans-serif;\n",
        "            color:#202124; line-height:1.6;\">\n",
        "\n",
        "  <strong>🧩 The Simplest Graph</strong><br><br>\n",
        "\n",
        "  Let's build a simple graph with <strong>three nodes</strong> and <strong>one conditional edge</strong>.\n",
        "  This structure allows an agent to make a decision at a branching point, directing the flow based on predefined conditions.<br><br>\n",
        "\n",
        "  <img src=\"https://cdn.prod.website-files.com/65b8cd72835ceeacd4449a53/66dba5f465f6e9a2482ad935_simple-graph1.png\" width=\"600\" style=\"border-radius: 8px; border: 1px solid #ccc;\"/><br><br>\n",
        "\n",
        "  This example demonstrates how <strong>LangGraph</strong> enables structured decision-making while maintaining flexibility.\n",
        "</div>\n"
      ],
      "metadata": {
        "id": "iPZfc7FKtqXr"
      }
    },
    {
      "cell_type": "markdown",
      "source": [
        "<div style=\"background-color:#f8f9fc; border-left:5px solid #4285f4;\n",
        "            padding:20px; margin-top:16px; font-family:'Segoe UI', sans-serif;\n",
        "            color:#202124; line-height:1.6;\">\n",
        "\n",
        "  <h3 style=\"margin-top:0;\">🛠️ Understanding Graph Components</h3>\n",
        "\n",
        "  LangGraph workflows consist of <strong>three main components</strong>: <em>State, Nodes, and Edges</em>. Each plays a key role in defining how information flows through the graph.\n",
        "\n",
        "  <hr style=\"margin:18px 0;\">\n",
        "\n",
        "  <h4>🧠 State</h4>\n",
        "  <p>\n",
        "    The <strong>State</strong>\n",
        "    (<a href=\"https://langchain-ai.github.io/langgraph/concepts/low_level/#state\" target=\"_blank\">docs</a>)\n",
        "    acts as the <strong>shared memory</strong> of the graph, storing data that nodes can read and modify.\n",
        "  </p>\n",
        "  <ul>\n",
        "    <li>Every <em>node and edge</em> interacts with the state.</li>\n",
        "    <li>Defined using <code>TypedDict</code> from Python’s <code>typing</code> module.</li>\n",
        "    <li>Nodes modify the state by updating specific keys.</li>\n",
        "  </ul>\n",
        "\n",
        "  <hr style=\"margin:18px 0;\">\n",
        "\n",
        "  <h4>🔵 Nodes</h4>\n",
        "  <p>\n",
        "    A <strong>Node</strong>\n",
        "    (<a href=\"https://langchain-ai.github.io/langgraph/concepts/low_level/#nodes\" target=\"_blank\">docs</a>)\n",
        "    is a simple <strong>Python function</strong> that processes the state.\n",
        "  </p>\n",
        "  <ul>\n",
        "    <li>The <strong>first argument</strong> of a node is always the <em>state</em>.</li>\n",
        "    <li>Nodes can read and modify the state via keys like <code>state['graph_state']</code>.</li>\n",
        "    <li>Return values update the state;\n",
        "        <a href=\"https://langchain-ai.github.io/langgraph/concepts/low_level/#reducers\" target=\"_blank\">reducers</a>\n",
        "        handle value replacement.</li>\n",
        "  </ul>\n",
        "\n",
        "  <hr style=\"margin:18px 0;\">\n",
        "\n",
        "  <h4>🔀 Edges</h4>\n",
        "  <p>\n",
        "    An <strong>Edge</strong>\n",
        "    (<a href=\"https://langchain-ai.github.io/langgraph/concepts/low_level/#edges\" target=\"_blank\">docs</a>)\n",
        "    connects nodes and controls how data flows between them.\n",
        "  </p>\n",
        "  <ul>\n",
        "    <li><strong>Normal Edges</strong> → Always flow to the next node (e.g., <code>node_1 → node_2</code>).</li>\n",
        "    <li><strong>Conditional Edges</strong>\n",
        "        (<a href=\"https://langchain-ai.github.io/langgraph/concepts/low_level/#conditional-edges\" target=\"_blank\">docs</a>)\n",
        "        → Use logic to determine the next node.</li>\n",
        "  </ul>\n",
        "  <p>\n",
        "    Conditional edges <em>act\n"
      ],
      "metadata": {
        "id": "ldOostBhtwUI"
      }
    },
    {
      "cell_type": "code",
      "source": [
        "# 📦 Import TypedDict and Literal for defining structured state\n",
        "from typing_extensions import TypedDict  # For backward-compatible typed dicts\n",
        "from typing import Literal               # For fixed value types\n",
        "import random                            # For simulating mood selection\n",
        "\n",
        "# 🎯 Define the State Schema\n",
        "# The state acts as shared memory for the graph.\n",
        "# It stores a key-value pair where 'graph_state' holds a string that evolves as nodes modify it.\n",
        "class State(TypedDict):\n",
        "    graph_state: str  # Tracks the sentence as it builds through the nodes\n",
        "\n",
        "\n",
        "# 🔵 Define Nodes\n",
        "# Each node modifies the 'graph_state' by appending its own text.\n",
        "# Nodes simulate a simple sentence-building process.\n",
        "\n",
        "def node_1(state: State) -> State:\n",
        "    \"\"\"Node 1 initializes the sentence with 'I am'.\"\"\"\n",
        "    print(\"--- Node 1 ---\")\n",
        "    return {\"graph_state\": state[\"graph_state\"] + \" I am\"}\n",
        "\n",
        "def node_2(state: State) -> State:\n",
        "    \"\"\"Node 2 completes the sentence with 'happy!'.\"\"\"\n",
        "    print(\"--- Node 2 ---\")\n",
        "    return {\"graph_state\": state[\"graph_state\"] + \" happy!\"}\n",
        "\n",
        "def node_3(state: State) -> State:\n",
        "    \"\"\"Node 3 completes the sentence with 'sad!'.\"\"\"\n",
        "    print(\"--- Node 3 ---\")\n",
        "    return {\"graph_state\": state[\"graph_state\"] + \" sad!\"}\n",
        "\n",
        "\n",
        "# 🔀 Define the Decision Function\n",
        "# This function decides whether to send the state to Node 2 or Node 3.\n",
        "# It randomly picks between the two, simulating an unpredictable emotional outcome.\n",
        "\n",
        "def decide_mood(state: State) -> Literal[\"node_2\", \"node_3\"]:\n",
        "    \"\"\"Randomly selects between Node 2 (happy) and Node 3 (sad).\"\"\"\n",
        "    return \"node_2\" if random.random() < 0.5 else \"node_3\"\n"
      ],
      "metadata": {
        "id": "rSoT9P3NtseJ"
      },
      "execution_count": 4,
      "outputs": []
    },
    {
      "cell_type": "markdown",
      "source": [
        "## 🚀 Graph Construction  \n",
        "\n",
        "Now, it's time to build the graph using the **components** defined earlier. The **StateGraph class** is used to create and manage the graph structure.  \n",
        "\n",
        "### 🏗️ Steps to Build the Graph  \n",
        "1. **Initialize the Graph** → Create a `StateGraph` using the `State` class.  \n",
        "2. **Add Nodes and Edges** → Define how the graph flows.  \n",
        "3. **Use Special Nodes**:  \n",
        "   - **`START` Node** → Sends user input into the graph.  \n",
        "   - **`END` Node** → Represents a terminal state.  \n",
        "4. **Compile the Graph** → Ensures structural validity.  \n",
        "5. **Visualize** → Convert it into a **Mermaid diagram** for better understanding.  \n",
        "\n",
        "### 🔗 Reference Table  \n",
        "\n",
        "| Concept       | Documentation Link |\n",
        "|--------------|------------------|\n",
        "| StateGraph Class | [StateGraph Docs](https://langchain-ai.github.io/langgraph/concepts/low_level/#stategraph) |\n",
        "| START Node   | [START Node Docs](https://langchain-ai.github.io/langgraph/concepts/low_level/#start-node) |\n",
        "| END Node     | [END Node Docs](https://langchain-ai.github.io/langgraph/concepts/low_level/#end-node) |\n",
        "| Graph Compilation | [Compiling a Graph](https://langchain-ai.github.io/langgraph/concepts/low_level/#compiling-your-graph) |\n",
        "| Mermaid Diagrams | [Mermaid Docs](https://github.com/mermaid-js/mermaid) |\n",
        "\n",
        "This approach makes the graph more **structured, adaptable, and easy to debug**.  \n"
      ],
      "metadata": {
        "id": "lrjO8J8DvENy"
      }
    },
    {
      "cell_type": "code",
      "source": [
        "# ++++ 🧩 Build and Visualize the LangGraph\n",
        "\n",
        "# 📦 Import display utilities and graph construction tools\n",
        "from IPython.display import Image, display  # For rendering the graph diagram\n",
        "from langgraph.graph import StateGraph, START, END  # Core LangGraph components\n",
        "\n",
        "# 🏗️ Initialize the Graph Builder with the defined State schema\n",
        "builder = StateGraph(State)\n",
        "\n",
        "# 🔵 Add Nodes: These are the functional units of the graph\n",
        "builder.add_node(\"node_1\", node_1)  # Starts the sentence\n",
        "builder.add_node(\"node_2\", node_2)  # Appends \"happy!\"\n",
        "builder.add_node(\"node_3\", node_3)  # Appends \"sad!\"\n",
        "\n",
        "# 🔗 Define Graph Flow: Edges between nodes\n",
        "builder.add_edge(START, \"node_1\")  # Entry point → node_1\n",
        "builder.add_conditional_edges(\"node_1\", decide_mood)  # Conditional path → node_2 or node_3\n",
        "builder.add_edge(\"node_2\", END)  # Happy path → END\n",
        "builder.add_edge(\"node_3\", END)  # Sad path → END\n",
        "\n",
        "# ✅ Compile the graph for execution\n",
        "graph = builder.compile()\n",
        "\n",
        "# 🖼️ Visualize the final graph structure\n",
        "display(Image(graph.get_graph().draw_mermaid_png()))\n"
      ],
      "metadata": {
        "id": "OskefMiJvDn7",
        "colab": {
          "base_uri": "https://localhost:8080/",
          "height": 350
        },
        "outputId": "e85841f6-bc3a-4cf8-ff3c-ef371b20eb5c"
      },
      "execution_count": 5,
      "outputs": [
        {
          "output_type": "display_data",
          "data": {
            "image/png": "[encoded data removed]",
            "text/plain": [
              "<IPython.core.display.Image object>"
            ]
          },
          "metadata": {}
        }
      ]
    },
    {
      "cell_type": "markdown",
      "source": [
        "<div style=\"background-color:#f8f9fc; border-left:5px solid #4285f4;\n",
        "            padding:16px; margin-top:16px; font-family:'Segoe UI', sans-serif;\n",
        "            color:#202124; line-height:1.6;\">\n",
        "\n",
        "  <h3 style=\"margin-top:0;\">🧮 Graph Invocation</h3>\n",
        "\n",
        "  The compiled graph follows the\n",
        "  <a href=\"https://python.langchain.com/docs/concepts/runnables/\" target=\"_blank\">runnable protocol</a>,\n",
        "  providing a standardized way to execute LangChain components.\n",
        "\n",
        "  <br><br>\n",
        "  The <code>invoke</code> method is used to start execution, with an input dictionary like\n",
        "  <code>{\"graph_state\": \"Hi, this is Lance.\"}</code> setting the initial state. The graph begins at the\n",
        "  <code>START</code> node and moves through the defined nodes (<code>node_1</code>, <code>node_2</code>,\n",
        "  <code>node_3</code>) based on the control flow.\n",
        "\n",
        "  <br><br>\n",
        "  A conditional edge determines whether the execution moves from <code>node_1</code> to <code>node_2</code> or\n",
        "  <code>node_3</code>, following a 50/50 probability rule. Each node processes the current state, modifies the\n",
        "  <code>graph_state</code> value, and returns the updated state.\n",
        "\n",
        "  <br><br>\n",
        "  The execution continues along the directed edges until it reaches the <code>END</code> node, where the final\n",
        "  graph state is returned.\n",
        "</div>\n"
      ],
      "metadata": {
        "id": "c9PlWY6jvvf6"
      }
    },
    {
      "cell_type": "code",
      "source": [
        "pretty_print(graph.invoke({\"graph_state\": \"Hi, this is Lance.\"})[\"graph_state\"], title=\"🧠 Mood Result\")\n"
      ],
      "metadata": {
        "id": "1tEzUm9QveUE",
        "colab": {
          "base_uri": "https://localhost:8080/",
          "height": 194
        },
        "outputId": "d64e5827-c45d-4d0a-b768-639600c01980"
      },
      "execution_count": 6,
      "outputs": [
        {
          "output_type": "stream",
          "name": "stdout",
          "text": [
            "--- Node 1 ---\n",
            "--- Node 2 ---\n"
          ]
        },
        {
          "output_type": "display_data",
          "data": {
            "text/plain": [
              "<IPython.core.display.HTML object>"
            ],
            "text/html": [
              "\n",
              "    <div style=\"background-color:#f8f9fc; border-left:5px solid #4285f4;\n",
              "                padding:16px; margin-top:16px; font-family:'Segoe UI', sans-serif;\n",
              "                color:#202124; line-height:1.6;\">\n",
              "      <strong>🧠 Mood Result</strong><br><br>\n",
              "      Hi, this is Lance. I am happy!\n",
              "    </div>\n",
              "    "
            ]
          },
          "metadata": {}
        }
      ]
    },
    {
      "cell_type": "code",
      "source": [
        "# ++++ 😕 Add a New Mood Option (\"confused!\") and Test the Updated LangGraph\n",
        "\n",
        "# ✅ 1. Define the new mood node\n",
        "def node_4(state: State) -> State:\n",
        "    \"\"\"Node 4 completes the sentence with 'confused!'.\"\"\"\n",
        "    print(\"--- Node 4 ---\")\n",
        "    return {\"graph_state\": state[\"graph_state\"] + \" confused!\"}\n",
        "\n",
        "# ✅ 2. Update the decision logic to include the new node\n",
        "def decide_mood(state: State) -> Literal[\"node_2\", \"node_3\", \"node_4\"]:\n",
        "    r = random.random()\n",
        "    if r < 0.33:\n",
        "        return \"node_2\"\n",
        "    elif r < 0.66:\n",
        "        return \"node_3\"\n",
        "    return \"node_4\"\n",
        "\n",
        "# ✅ 3. Rebuild the full graph with the new mood included\n",
        "builder = StateGraph(State)\n",
        "\n",
        "builder.add_node(\"node_1\", node_1)\n",
        "builder.add_node(\"node_2\", node_2)\n",
        "builder.add_node(\"node_3\", node_3)\n",
        "builder.add_node(\"node_4\", node_4)  # Register the new node\n",
        "\n",
        "builder.add_edge(START, \"node_1\")\n",
        "builder.add_conditional_edges(\"node_1\", decide_mood)\n",
        "builder.add_edge(\"node_2\", END)\n",
        "builder.add_edge(\"node_3\", END)\n",
        "builder.add_edge(\"node_4\", END)  # Connect new mood to END\n",
        "\n",
        "# ✅ 4. Compile the updated graph\n",
        "graph = builder.compile()\n",
        "\n",
        "# 🖼️ 5. Visualize the updated graph\n",
        "display(Image(graph.get_graph().draw_mermaid_png()))\n",
        "\n",
        "# 🧪 6. Invoke the graph multiple times to see different mood outcomes\n",
        "for i in range(3):\n",
        "    result = graph.invoke({\"graph_state\": f\"Hi, this is Lance {i+1}.\"})\n",
        "    pretty_print(result[\"graph_state\"], title=f\"🧠 Mood Result #{i+1}\")\n"
      ],
      "metadata": {
        "id": "yZoIQ6ovfavH",
        "colab": {
          "base_uri": "https://localhost:8080/",
          "height": 878
        },
        "outputId": "5e7d4b42-898e-4311-e8cd-52ef4df5ec58"
      },
      "execution_count": 7,
      "outputs": [
        {
          "output_type": "display_data",
          "data": {
            "image/png": "[encoded data removed]",
            "text/plain": [
              "<IPython.core.display.Image object>"
            ]
          },
          "metadata": {}
        },
        {
          "output_type": "stream",
          "name": "stdout",
          "text": [
            "--- Node 1 ---\n",
            "--- Node 4 ---\n"
          ]
        },
        {
          "output_type": "display_data",
          "data": {
            "text/plain": [
              "<IPython.core.display.HTML object>"
            ],
            "text/html": [
              "\n",
              "    <div style=\"background-color:#f8f9fc; border-left:5px solid #4285f4;\n",
              "                padding:16px; margin-top:16px; font-family:'Segoe UI', sans-serif;\n",
              "                color:#202124; line-height:1.6;\">\n",
              "      <strong>🧠 Mood Result #1</strong><br><br>\n",
              "      Hi, this is Lance 1. I am confused!\n",
              "    </div>\n",
              "    "
            ]
          },
          "metadata": {}
        },
        {
          "output_type": "stream",
          "name": "stdout",
          "text": [
            "--- Node 1 ---\n",
            "--- Node 4 ---\n"
          ]
        },
        {
          "output_type": "display_data",
          "data": {
            "text/plain": [
              "<IPython.core.display.HTML object>"
            ],
            "text/html": [
              "\n",
              "    <div style=\"background-color:#f8f9fc; border-left:5px solid #4285f4;\n",
              "                padding:16px; margin-top:16px; font-family:'Segoe UI', sans-serif;\n",
              "                color:#202124; line-height:1.6;\">\n",
              "      <strong>🧠 Mood Result #2</strong><br><br>\n",
              "      Hi, this is Lance 2. I am confused!\n",
              "    </div>\n",
              "    "
            ]
          },
          "metadata": {}
        },
        {
          "output_type": "stream",
          "name": "stdout",
          "text": [
            "--- Node 1 ---\n",
            "--- Node 3 ---\n"
          ]
        },
        {
          "output_type": "display_data",
          "data": {
            "text/plain": [
              "<IPython.core.display.HTML object>"
            ],
            "text/html": [
              "\n",
              "    <div style=\"background-color:#f8f9fc; border-left:5px solid #4285f4;\n",
              "                padding:16px; margin-top:16px; font-family:'Segoe UI', sans-serif;\n",
              "                color:#202124; line-height:1.6;\">\n",
              "      <strong>🧠 Mood Result #3</strong><br><br>\n",
              "      Hi, this is Lance 3. I am sad!\n",
              "    </div>\n",
              "    "
            ]
          },
          "metadata": {}
        }
      ]
    },
    {
      "cell_type": "markdown",
      "source": [
        "<div style=\"background-color:#f8f9fc; border-left:5px solid #3399ff;\n",
        "            padding:18px; margin-top:16px; font-family:'Segoe UI', sans-serif;\n",
        "            color:#202124; line-height:1.6;\">\n",
        "\n",
        "  <h2 style=\"margin-top:0;\">✈️ Airport Security Screening Simulation</h2>\n",
        "  <h4>🎓 <em>LangGraph Hands-On Exercise</em></h4>\n",
        "\n",
        "  <p>\n",
        "    In this hands-on activity, you'll simulate an <strong>airport security screening process</strong> using the\n",
        "    <strong>LangGraph</strong> framework. Passengers arrive at security and are categorized into different paths:\n",
        "  </p>\n",
        "\n",
        "  <ul>\n",
        "    <li><strong>TSA PreCheck (20%)</strong> → Fast screening with minimal delay</li>\n",
        "    <li><strong>Regular Screening (80%)</strong> → Standard security check</li>\n",
        "    <li><strong>Additional Screening (10% of Regular)</strong> → Extra manual inspection before gate entry</li>\n",
        "  </ul>\n",
        "\n",
        "  <p>Here’s a visual representation of the screening logic:</p>\n",
        "\n",
        "  <img src=\"https://www.dropbox.com/scl/fi/o3ipy33svrcg64myu0u0s/AirPort_Security.png?rlkey=d6hc4bqdphzducnixba9ic2ai&dl=1\"\n",
        "       width=\"600\" style=\"border-radius: 8px; border: 1px solid #ccc; margin-top:10px;\" />\n",
        "\n",
        "  <hr style=\"margin:20px 0;\">\n",
        "\n",
        "  <h4>🧪 Task: Complete the Missing Code</h4>\n",
        "  <p>\n",
        "    Your goal is to <strong>fill in the placeholders</strong> (e.g., <code>------</code>) to build a working LangGraph simulation.\n",
        "  </p>\n",
        "  <ul>\n",
        "    <li>Define node functions for <code>precheck_screening</code>, <code>regular_screening</code>, and <code>manual_check</code>.</li>\n",
        "    <li>Write a <code>screening_decision()</code> function to route passengers correctly.</li>\n",
        "    <li>Register the nodes and connect them with edges in the graph.</li>\n",
        "  </ul>\n",
        "\n",
        "  <p style=\"margin-top:12px;\">\n",
        "    Once complete, you will be able to run <code>graph.invoke({\"passenger_id\": \"P123\"})</code> to simulate a screening outcome.\n",
        "  </p>\n",
        "</div>\n"
      ],
      "metadata": {
        "id": "qZ3g3hX9aZ_E"
      }
    },
    {
      "cell_type": "code",
      "source": [
        "!apt-get install -y graphviz libgraphviz-dev\n",
        "!pip install pygraphviz"
      ],
      "metadata": {
        "colab": {
          "base_uri": "https://localhost:8080/"
        },
        "id": "k0cTUAGjBAUl",
        "outputId": "aa91467b-6f08-4abe-f598-1317ea3dc507"
      },
      "execution_count": 10,
      "outputs": [
        {
          "output_type": "stream",
          "name": "stdout",
          "text": [
            "Reading package lists... Done\n",
            "Building dependency tree... Done\n",
            "Reading state information... Done\n",
            "graphviz is already the newest version (2.42.2-6ubuntu0.1).\n",
            "The following additional packages will be installed:\n",
            "  libgail-common libgail18 libgtk2.0-0 libgtk2.0-bin libgtk2.0-common\n",
            "  libgvc6-plugins-gtk librsvg2-common libxdot4\n",
            "Suggested packages:\n",
            "  gvfs\n",
            "The following NEW packages will be installed:\n",
            "  libgail-common libgail18 libgraphviz-dev libgtk2.0-0 libgtk2.0-bin\n",
            "  libgtk2.0-common libgvc6-plugins-gtk librsvg2-common libxdot4\n",
            "0 upgraded, 9 newly installed, 0 to remove and 35 not upgraded.\n",
            "Need to get 2,434 kB of archives.\n",
            "After this operation, 7,681 kB of additional disk space will be used.\n",
            "Get:1 http://archive.ubuntu.com/ubuntu jammy-updates/main amd64 libgtk2.0-common all 2.24.33-2ubuntu2.1 [125 kB]\n",
            "Get:2 http://archive.ubuntu.com/ubuntu jammy-updates/main amd64 libgtk2.0-0 amd64 2.24.33-2ubuntu2.1 [2,038 kB]\n",
            "Get:3 http://archive.ubuntu.com/ubuntu jammy-updates/main amd64 libgail18 amd64 2.24.33-2ubuntu2.1 [15.9 kB]\n",
            "Get:4 http://archive.ubuntu.com/ubuntu jammy-updates/main amd64 libgail-common amd64 2.24.33-2ubuntu2.1 [132 kB]\n",
            "Get:5 http://archive.ubuntu.com/ubuntu jammy-updates/universe amd64 libxdot4 amd64 2.42.2-6ubuntu0.1 [16.4 kB]\n",
            "Get:6 http://archive.ubuntu.com/ubuntu jammy-updates/universe amd64 libgvc6-plugins-gtk amd64 2.42.2-6ubuntu0.1 [22.5 kB]\n",
            "Get:7 http://archive.ubuntu.com/ubuntu jammy-updates/universe amd64 libgraphviz-dev amd64 2.42.2-6ubuntu0.1 [58.5 kB]\n",
            "Get:8 http://archive.ubuntu.com/ubuntu jammy-updates/main amd64 libgtk2.0-bin amd64 2.24.33-2ubuntu2.1 [7,936 B]\n",
            "Get:9 http://archive.ubuntu.com/ubuntu jammy-updates/main amd64 librsvg2-common amd64 2.52.5+dfsg-3ubuntu0.2 [17.7 kB]\n",
            "Fetched 2,434 kB in 6s (442 kB/s)\n",
            "Selecting previously unselected package libgtk2.0-common.\n",
            "(Reading database ... 126319 files and directories currently installed.)\n",
            "Preparing to unpack .../0-libgtk2.0-common_2.24.33-2ubuntu2.1_all.deb ...\n",
            "Unpacking libgtk2.0-common (2.24.33-2ubuntu2.1) ...\n",
            "Selecting previously unselected package libgtk2.0-0:amd64.\n",
            "Preparing to unpack .../1-libgtk2.0-0_2.24.33-2ubuntu2.1_amd64.deb ...\n",
            "Unpacking libgtk2.0-0:amd64 (2.24.33-2ubuntu2.1) ...\n",
            "Selecting previously unselected package libgail18:amd64.\n",
            "Preparing to unpack .../2-libgail18_2.24.33-2ubuntu2.1_amd64.deb ...\n",
            "Unpacking libgail18:amd64 (2.24.33-2ubuntu2.1) ...\n",
            "Selecting previously unselected package libgail-common:amd64.\n",
            "Preparing to unpack .../3-libgail-common_2.24.33-2ubuntu2.1_amd64.deb ...\n",
            "Unpacking libgail-common:amd64 (2.24.33-2ubuntu2.1) ...\n",
            "Selecting previously unselected package libxdot4:amd64.\n",
            "Preparing to unpack .../4-libxdot4_2.42.2-6ubuntu0.1_amd64.deb ...\n",
            "Unpacking libxdot4:amd64 (2.42.2-6ubuntu0.1) ...\n",
            "Selecting previously unselected package libgvc6-plugins-gtk.\n",
            "Preparing to unpack .../5-libgvc6-plugins-gtk_2.42.2-6ubuntu0.1_amd64.deb ...\n",
            "Unpacking libgvc6-plugins-gtk (2.42.2-6ubuntu0.1) ...\n",
            "Selecting previously unselected package libgraphviz-dev:amd64.\n",
            "Preparing to unpack .../6-libgraphviz-dev_2.42.2-6ubuntu0.1_amd64.deb ...\n",
            "Unpacking libgraphviz-dev:amd64 (2.42.2-6ubuntu0.1) ...\n",
            "Selecting previously unselected package libgtk2.0-bin.\n",
            "Preparing to unpack .../7-libgtk2.0-bin_2.24.33-2ubuntu2.1_amd64.deb ...\n",
            "Unpacking libgtk2.0-bin (2.24.33-2ubuntu2.1) ...\n",
            "Selecting previously unselected package librsvg2-common:amd64.\n",
            "Preparing to unpack .../8-librsvg2-common_2.52.5+dfsg-3ubuntu0.2_amd64.deb ...\n",
            "Unpacking librsvg2-common:amd64 (2.52.5+dfsg-3ubuntu0.2) ...\n",
            "Setting up libxdot4:amd64 (2.42.2-6ubuntu0.1) ...\n",
            "Setting up librsvg2-common:amd64 (2.52.5+dfsg-3ubuntu0.2) ...\n",
            "Setting up libgtk2.0-common (2.24.33-2ubuntu2.1) ...\n",
            "Setting up libgtk2.0-0:amd64 (2.24.33-2ubuntu2.1) ...\n",
            "Setting up libgvc6-plugins-gtk (2.42.2-6ubuntu0.1) ...\n",
            "Setting up libgail18:amd64 (2.24.33-2ubuntu2.1) ...\n",
            "Setting up libgtk2.0-bin (2.24.33-2ubuntu2.1) ...\n",
            "Setting up libgail-common:amd64 (2.24.33-2ubuntu2.1) ...\n",
            "Setting up libgraphviz-dev:amd64 (2.42.2-6ubuntu0.1) ...\n",
            "Processing triggers for libc-bin (2.35-0ubuntu3.8) ...\n",
            "/sbin/ldconfig.real: /usr/local/lib/libtbbmalloc.so.2 is not a symbolic link\n",
            "\n",
            "/sbin/ldconfig.real: /usr/local/lib/libur_adapter_opencl.so.0 is not a symbolic link\n",
            "\n",
            "/sbin/ldconfig.real: /usr/local/lib/libtbbbind_2_5.so.3 is not a symbolic link\n",
            "\n",
            "/sbin/ldconfig.real: /usr/local/lib/libur_adapter_level_zero.so.0 is not a symbolic link\n",
            "\n",
            "/sbin/ldconfig.real: /usr/local/lib/libtcm_debug.so.1 is not a symbolic link\n",
            "\n",
            "/sbin/ldconfig.real: /usr/local/lib/libur_loader.so.0 is not a symbolic link\n",
            "\n",
            "/sbin/ldconfig.real: /usr/local/lib/libtbbbind_2_0.so.3 is not a symbolic link\n",
            "\n",
            "/sbin/ldconfig.real: /usr/local/lib/libtbb.so.12 is not a symbolic link\n",
            "\n",
            "/sbin/ldconfig.real: /usr/local/lib/libtbbmalloc_proxy.so.2 is not a symbolic link\n",
            "\n",
            "/sbin/ldconfig.real: /usr/local/lib/libumf.so.0 is not a symbolic link\n",
            "\n",
            "/sbin/ldconfig.real: /usr/local/lib/libtbbbind.so.3 is not a symbolic link\n",
            "\n",
            "/sbin/ldconfig.real: /usr/local/lib/libtcm.so.1 is not a symbolic link\n",
            "\n",
            "/sbin/ldconfig.real: /usr/local/lib/libhwloc.so.15 is not a symbolic link\n",
            "\n",
            "Processing triggers for man-db (2.10.2-1) ...\n",
            "Processing triggers for libgdk-pixbuf-2.0-0:amd64 (2.42.8+dfsg-1ubuntu0.3) ...\n",
            "Collecting pygraphviz\n",
            "  Downloading pygraphviz-1.14.tar.gz (106 kB)\n",
            "\u001b[2K     \u001b[90m━━━━━━━━━━━━━━━━━━━━━━━━━━━━━━━━━━━━━━━\u001b[0m \u001b[32m106.0/106.0 kB\u001b[0m \u001b[31m2.7 MB/s\u001b[0m eta \u001b[36m0:00:00\u001b[0m\n",
            "\u001b[?25h  Installing build dependencies ... \u001b[?25l\u001b[?25hdone\n",
            "  Getting requirements to build wheel ... \u001b[?25l\u001b[?25hdone\n",
            "  Preparing metadata (pyproject.toml) ... \u001b[?25l\u001b[?25hdone\n",
            "Building wheels for collected packages: pygraphviz\n",
            "  Building wheel for pygraphviz (pyproject.toml) ... \u001b[?25l\u001b[?25hdone\n",
            "  Created wheel for pygraphviz: filename=pygraphviz-1.14-cp311-cp311-linux_x86_64.whl size=169716 sha256=528532f1577f76e53c199555e6c724cd8a53f7d8df57d59c6421ea866df2e906\n",
            "  Stored in directory: /root/.cache/pip/wheels/9c/5f/df/6fffd2a4353f26dbb0e3672a1baf070c124a1d74a5f9318279\n",
            "Successfully built pygraphviz\n",
            "Installing collected packages: pygraphviz\n",
            "Successfully installed pygraphviz-1.14\n"
          ]
        }
      ]
    },
    {
      "cell_type": "code",
      "source": [
        "from typing_extensions import TypedDict\n",
        "from typing import Literal\n",
        "import random\n",
        "from IPython.display import Image, display\n",
        "from langgraph.graph import StateGraph, START, END\n",
        "\n",
        "# 🎯 Define the State Schema\n",
        "class AirportState(TypedDict):\n",
        "    passenger_type: str  # Tracks whether passenger is Regular or TSA PreCheck\n",
        "\n",
        "# 🔵 Define Nodes\n",
        "def start_node(state: AirportState) -> AirportState:\n",
        "    \"\"\"Initial step where a passenger enters security.\"\"\"\n",
        "    print(\"🛫 Passenger arrives at security.\")\n",
        "    return state\n",
        "\n",
        "def tsa_screening(state: AirportState) -> AirportState:\n",
        "    \"\"\"TSA PreCheck passengers go through expedited screening.\"\"\"\n",
        "    print(\"🟢 TSA PreCheck passenger goes through expedited screening.\")\n",
        "    return state\n",
        "\n",
        "def regular_screening(state: AirportState) -> AirportState:\n",
        "    \"\"\"Regular passengers go through standard screening.\"\"\"\n",
        "    print(\"🔎 Regular passenger goes through standard screening.\")\n",
        "    return state\n",
        "\n",
        "def additional_screening(state: AirportState) -> AirportState:\n",
        "    \"\"\"Additional screening for some regular passengers.\"\"\"\n",
        "    print(\"⚠️ Additional screening required for passenger.\")\n",
        "    return state\n",
        "\n",
        "def gates(state: AirportState) -> AirportState:\n",
        "    \"\"\"All passengers proceed to the boarding gates.\"\"\"\n",
        "    print(\"✅ Passenger cleared security. Proceeding to Gates!\")\n",
        "    return state\n",
        "\n",
        "# 🔀 Define the First Decision Function (TSA or Regular)\n",
        "def assign_passenger_type(state: AirportState) -> Literal[\"tsa_screening\", \"regular_screening\"]:\n",
        "    \"\"\"Randomly assigns passengers to TSA PreCheck (20%) or Regular (80%).\"\"\"\n",
        "    rand_val = random.random()\n",
        "    if rand_val < 0.2:\n",
        "        print(\"🟢 Passenger assigned to TSA PreCheck.\")\n",
        "        state[\"passenger_type\"] = \"TSA\"\n",
        "        return \"tsa_screening\"\n",
        "    else:\n",
        "        print(\"🔵 Passenger assigned to Regular Screening.\")\n",
        "        state[\"passenger_type\"] = \"Regular\"\n",
        "        return \"regular_screening\"\n",
        "\n",
        "# 🔀 Define the Second Decision Function (Regular -> Additional Screening or Gates)\n",
        "def additional_screening_decision(state: AirportState) -> Literal[\"additional_screening\", \"gates\"]:\n",
        "    if random.random() < 0.1:\n",
        "        print(\"⚠️ Passenger selected for additional screening.\")\n",
        "        return \"additional_screening\"\n",
        "    else:\n",
        "        print(\"✅ Passenger cleared security after regular screening.\")\n",
        "        return \"gates\"\n",
        "\n",
        "# 🏗️ Build the Graph\n",
        "builder = StateGraph(AirportState)\n",
        "\n",
        "# 🔵 Add Nodes\n",
        "builder.add_node(\"start_node\", start_node)\n",
        "builder.add_node(\"tsa_screening\", tsa_screening)\n",
        "builder.add_node(\"regular_screening\", regular_screening)\n",
        "builder.add_node(\"additional_screening\", additional_screening)\n",
        "builder.add_node(\"gates\", gates)\n",
        "\n",
        "# 🔗 Define Graph Flow (Edges)\n",
        "builder.set_entry_point(\"start_node\")\n",
        "builder.add_conditional_edges(\"start_node\", assign_passenger_type)\n",
        "builder.add_edge(\"tsa_screening\", \"gates\")\n",
        "builder.add_conditional_edges(\"regular_screening\", additional_screening_decision)\n",
        "builder.add_edge(\"additional_screening\", \"gates\")\n",
        "builder.add_edge(\"gates\", END)\n",
        "\n",
        "# ✅ Compile the Graph\n",
        "graph = builder.compile()\n",
        "\n",
        "# 🖼️ Visualize the Graph\n",
        "display(Image(graph.get_graph().draw_png()))\n",
        "\n",
        "# 🚀 Run the Graph\n",
        "graph.invoke({})\n"
      ],
      "metadata": {
        "id": "EfNDrq4cf6Ko",
        "colab": {
          "base_uri": "https://localhost:8080/",
          "height": 906
        },
        "outputId": "20f8acc2-bb73-462d-e334-f63db3dde0bf"
      },
      "execution_count": 17,
      "outputs": [
        {
          "output_type": "display_data",
          "data": {
            "image/png": "[encoded data removed]",
            "text/plain": [
              "<IPython.core.display.Image object>"
            ]
          },
          "metadata": {}
        },
        {
          "output_type": "stream",
          "name": "stdout",
          "text": [
            "🛫 Passenger arrives at security.\n",
            "🔵 Passenger assigned to Regular Screening.\n",
            "🔎 Regular passenger goes through standard screening.\n",
            "✅ Passenger cleared security after regular screening.\n",
            "✅ Passenger cleared security. Proceeding to Gates!\n"
          ]
        }
      ]
    },
    {
      "cell_type": "code",
      "source": [
        "# # 🔄 Test your code: Refresh this cell to see how the model works on different scenarios\n",
        "\n",
        "graph.invoke({})"
      ],
      "metadata": {
        "id": "1K2FjSsteUKC",
        "colab": {
          "base_uri": "https://localhost:8080/"
        },
        "outputId": "f30b84ca-8913-4bfc-ee4d-151bab7823d5"
      },
      "execution_count": 12,
      "outputs": [
        {
          "output_type": "stream",
          "name": "stdout",
          "text": [
            "🛫 Passenger arrives at security.\n",
            "🟢 Passenger assigned to TSA PreCheck.\n",
            "🟢 TSA PreCheck passenger goes through expedited screening.\n",
            "✅ Passenger cleared security. Proceeding to Gates!\n"
          ]
        }
      ]
    },
    {
      "cell_type": "code",
      "source": [
        "for i in range(5):\n",
        "    random.seed()  # uses current time\n",
        "    print(f\"\\n=== Simulation {i+1} ===\")\n",
        "    graph.invoke({})"
      ],
      "metadata": {
        "colab": {
          "base_uri": "https://localhost:8080/"
        },
        "id": "ZFez0sHXCor_",
        "outputId": "980a9d59-63c3-4f5c-a93c-0f9edf2cce33"
      },
      "execution_count": 19,
      "outputs": [
        {
          "output_type": "stream",
          "name": "stdout",
          "text": [
            "\n",
            "=== Simulation 1 ===\n",
            "🛫 Passenger arrives at security.\n",
            "🔵 Passenger assigned to Regular Screening.\n",
            "🔎 Regular passenger goes through standard screening.\n",
            "✅ Passenger cleared security after regular screening.\n",
            "✅ Passenger cleared security. Proceeding to Gates!\n",
            "\n",
            "=== Simulation 2 ===\n",
            "🛫 Passenger arrives at security.\n",
            "🔵 Passenger assigned to Regular Screening.\n",
            "🔎 Regular passenger goes through standard screening.\n",
            "✅ Passenger cleared security after regular screening.\n",
            "✅ Passenger cleared security. Proceeding to Gates!\n",
            "\n",
            "=== Simulation 3 ===\n",
            "🛫 Passenger arrives at security.\n",
            "🔵 Passenger assigned to Regular Screening.\n",
            "🔎 Regular passenger goes through standard screening.\n",
            "⚠️ Passenger selected for additional screening.\n",
            "⚠️ Additional screening required for passenger.\n",
            "✅ Passenger cleared security. Proceeding to Gates!\n",
            "\n",
            "=== Simulation 4 ===\n",
            "🛫 Passenger arrives at security.\n",
            "🔵 Passenger assigned to Regular Screening.\n",
            "🔎 Regular passenger goes through standard screening.\n",
            "✅ Passenger cleared security after regular screening.\n",
            "✅ Passenger cleared security. Proceeding to Gates!\n",
            "\n",
            "=== Simulation 5 ===\n",
            "🛫 Passenger arrives at security.\n",
            "🔵 Passenger assigned to Regular Screening.\n",
            "🔎 Regular passenger goes through standard screening.\n",
            "✅ Passenger cleared security after regular screening.\n",
            "✅ Passenger cleared security. Proceeding to Gates!\n"
          ]
        }
      ]
    },
    {
      "cell_type": "markdown",
      "source": [],
      "metadata": {
        "id": "Hd2a6PJmd7RX"
      }
    }
  ]
}